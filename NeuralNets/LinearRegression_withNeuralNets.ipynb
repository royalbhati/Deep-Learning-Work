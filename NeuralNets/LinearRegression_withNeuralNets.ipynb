{
 "cells": [
  {
   "cell_type": "code",
   "execution_count": 3,
   "metadata": {},
   "outputs": [],
   "source": [
    "import numpy as np\n",
    "import matplotlib.pyplot as plt\n",
    "import pandas as pd\n",
    "%matplotlib inline"
   ]
  },
  {
   "cell_type": "code",
   "execution_count": null,
   "metadata": {},
   "outputs": [],
   "source": []
  },
  {
   "cell_type": "code",
   "execution_count": 21,
   "metadata": {},
   "outputs": [],
   "source": [
    "df=pd.read_csv('data.csv',header=None)\n",
    "df.columns=['a','b']"
   ]
  },
  {
   "cell_type": "code",
   "execution_count": 86,
   "metadata": {},
   "outputs": [
    {
     "data": {
      "text/plain": [
       "array([31.588117  , 53.66093226, 46.68222865, 43.10782022, 70.34607562,\n",
       "       44.49285588, 57.5045333 , 36.93007661, 55.80573336, 38.95476907,\n",
       "       56.9012147 , 56.86890066, 34.3331247 , 59.04974121, 57.78822399,\n",
       "       54.28232871, 51.0887199 , 50.28283635, 44.21174175, 38.00548801,\n",
       "       32.94047994, 53.69163957, 68.76573427, 46.2309665 , 68.31936082,\n",
       "       50.03017434, 49.23976534, 50.03957594, 48.14985889, 25.12848465])"
      ]
     },
     "execution_count": 86,
     "metadata": {},
     "output_type": "execute_result"
    }
   ],
   "source": [
    "X=np.array(df['a'])\n",
    "Y=np.array(df['b'])\n",
    "X_tr=np.array(df['a'])[:70]\n",
    "Y_tr=np.array(df['b'])[:70]\n",
    "X_t=np.array(df['a'])[70:]\n",
    "Y_t=np.array(df['b'])[70:]\n",
    "X_t"
   ]
  },
  {
   "cell_type": "code",
   "execution_count": 57,
   "metadata": {},
   "outputs": [
    {
     "data": {
      "text/plain": [
       "<matplotlib.collections.PathCollection at 0x7f23f8861588>"
      ]
     },
     "execution_count": 57,
     "metadata": {},
     "output_type": "execute_result"
    },
    {
     "data": {
      "image/png": "[encoded data removed]",
      "text/plain": [
       "<matplotlib.figure.Figure at 0x7f23f88a1748>"
      ]
     },
     "metadata": {},
     "output_type": "display_data"
    }
   ],
   "source": [
    "plt.scatter(X,Y)"
   ]
  },
  {
   "cell_type": "code",
   "execution_count": 58,
   "metadata": {},
   "outputs": [],
   "source": [
    "import tensorflow as tf"
   ]
  },
  {
   "cell_type": "code",
   "execution_count": 125,
   "metadata": {},
   "outputs": [],
   "source": [
    "w=tf.Variable(5.0)\n",
    "b=tf.Variable(2.0)\n",
    "\n",
    "# initialize error with 0 and proceed\n",
    "error = 0\n",
    "\n",
    "# for every datapoint in X and Y\n",
    "for x,y in zip(X_tr,Y_tr):\n",
    "    \n",
    "    # predict the output value from neural network\n",
    "    \n",
    "    # i.e weights*inputs+biases \n",
    "    y_hat = w*x + b\n",
    "    \n",
    "    # calculate the error and minimize it\n",
    "    error += (y-y_hat)**2\n",
    "\n",
    "optimizer=tf.train.AdamOptimizer().minimize(error)  \n",
    "     "
   ]
  },
  {
   "cell_type": "code",
   "execution_count": 126,
   "metadata": {},
   "outputs": [
    {
     "name": "stdout",
     "output_type": "stream",
     "text": [
      "Weight: 1.3914073705673218\n",
      "Bias: 3.4148290157318115\n"
     ]
    }
   ],
   "source": [
    "# define the number of training steps\n",
    "training_steps = 20000\n",
    "\n",
    "# initialize the variables\n",
    "init = tf.global_variables_initializer()\n",
    "\n",
    "\n",
    "# initialize and run the model\n",
    "with tf.Session() as sess:\n",
    "    sess.run(init)\n",
    "    \n",
    "    # train the model defined number of times\n",
    "    # i.e it fixes the weights so many number of times\n",
    "    for step in range(training_steps):\n",
    "        sess.run(optimizer)\n",
    "    \n",
    "        final_weight, final_bias = sess.run([w,b])\n",
    "    print(\"Weight: {}\".format(final_weight))\n",
    "    print(\"Bias: {}\".format(final_bias))"
   ]
  },
  {
   "cell_type": "code",
   "execution_count": 127,
   "metadata": {},
   "outputs": [
    {
     "data": {
      "text/plain": [
       "array([48.63883178, 77.75327793, 89.02862269, 69.47278393, 86.6393673 ,\n",
       "       80.1400764 , 76.06270776, 58.09653577, 70.34853859, 76.53330643,\n",
       "       66.61217631, 79.04009439, 64.865013  , 84.35086791, 82.34548442,\n",
       "       71.5324132 , 65.59292322, 87.31297402, 66.8889462 , 57.42483504,\n",
       "       95.5118277 , 94.43520557, 69.48053264, 61.26348459, 75.5526042 ,\n",
       "       86.02382836, 83.15639021, 91.92998982, 68.44589714, 73.75987772,\n",
       "       76.07968209, 52.9041699 , 62.46125582, 84.34539883, 83.42694127,\n",
       "       66.64111839, 89.53768946, 49.46183041, 54.1121612 , 55.83701288,\n",
       "       65.40983092, 63.68820675, 73.08697292, 64.4567228 , 91.06998806,\n",
       "       48.8707773 , 59.30334835, 77.95958677, 50.53374733, 93.44881868,\n",
       "       56.45503313, 65.33598849, 59.90532597, 61.4652856 , 74.49993186,\n",
       "       80.05089761, 60.98810269, 90.37041164, 71.8774808 , 60.60540814,\n",
       "       60.71578976, 73.24454126, 76.29458514, 73.17371305, 50.22832093,\n",
       "       58.45598434, 81.51506573, 83.22881114, 87.27385814, 53.05759182])"
      ]
     },
     "execution_count": 127,
     "metadata": {},
     "output_type": "execute_result"
    }
   ],
   "source": [
    "ypred=final_weight*X_tr+final_bias\n",
    "ypred\n",
    "\n"
   ]
  },
  {
   "cell_type": "code",
   "execution_count": 129,
   "metadata": {},
   "outputs": [
    {
     "data": {
      "text/plain": [
       "<matplotlib.collections.PathCollection at 0x7f23d24bfcf8>"
      ]
     },
     "execution_count": 129,
     "metadata": {},
     "output_type": "execute_result"
    },
    {
     "data": {
      "image/png": "[encoded data removed]",
      "text/plain": [
       "<matplotlib.figure.Figure at 0x7f23d3fc5b70>"
      ]
     },
     "metadata": {},
     "output_type": "display_data"
    }
   ],
   "source": [
    "plt.plot(X_tr,ypred,'r')\n",
    "plt.scatter(X,Y)"
   ]
  },
  {
   "cell_type": "code",
   "execution_count": null,
   "metadata": {},
   "outputs": [],
   "source": []
  }
 ],
 "metadata": {
  "kernelspec": {
   "display_name": "Python 3",
   "language": "python",
   "name": "python3"
  },
  "language_info": {
   "codemirror_mode": {
    "name": "ipython",
    "version": 3
   },
   "file_extension": ".py",
   "mimetype": "text/x-python",
   "name": "python",
   "nbconvert_exporter": "python",
   "pygments_lexer": "ipython3",
   "version": "3.6.4"
  }
 },
 "nbformat": 4,
 "nbformat_minor": 2
}
